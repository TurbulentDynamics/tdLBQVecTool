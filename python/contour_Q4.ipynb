{
 "cells": [
  {
   "cell_type": "code",
   "execution_count": 60,
   "metadata": {
    "scrolled": false
   },
   "outputs": [
    {
     "name": "stdout",
     "output_type": "stream",
     "text": [
      "Matplotlib 3.0.3\n"
     ]
    }
   ],
   "source": [
    "import os, glob\n",
    "import math\n",
    "\n",
    "import numpy as np\n",
    "import pandas as pd\n",
    "\n",
    "import matplotlib as mpl\n",
    "#for use with workstation\n",
    "#matplotlib.use('agg')\n",
    "import matplotlib.pyplot as plt\n",
    "\n",
    "print(\"Matplotlib %s\" % mpl.__version__)\n",
    "%matplotlib inline\n",
    "\n",
    "dirroot = \"/Users/nile/Workspace/xcode/tdQvecPostProcess/TinyTestData\"\n",
    "dirroot = os.environ.get(\"DIRROOT\", dirroot)"
   ]
  },
  {
   "cell_type": "code",
   "execution_count": 58,
   "metadata": {},
   "outputs": [
    {
     "name": "stdout",
     "output_type": "stream",
     "text": [
      "NOT FOUND: /Users/nile/Workspace/xcode/tdQvecPostProcess/TinyTestData//plot_slice.XZplane.V_4.Q_4.step_00000050.cut_29//plot_slice.XZplane.V_4.Q_4.step_00000050.cut_29.vort.bvin\n"
     ]
    }
   ],
   "source": [
    "\n",
    "# directory = \"/plot_vertical_axis.XZplane.V_4.Q_4.step_00000050.cut_21\"\n",
    "directory = \"/plot_slice.XZplane.V_4.Q_4.step_00000050.cut_29\"\n",
    "# directory = \"plot_output_n104_load/plot_slice__XZplane_V_4_Q_4_step_00000120_cut_69\"\n",
    "\n",
    "directory = os.environ.get(\"DIRECTORY\", directory)\n",
    "\n",
    "image = directory + \".vort\"\n",
    "# image = directory + \".velocity.ux\"\n",
    "# image = directory + \".velocity.rho\"\n",
    "\n",
    "\n",
    "\n",
    "\n",
    "filename = \"%s/%s/%s.bvin\" % (dirroot, directory, image)\n",
    "\n",
    "\n",
    "if os.path.isfile(filename):\n",
    "    print(\"Found: %s\" % filename)\n",
    "else:\n",
    "    print(\"NOT FOUND: %s\" % filename)\n"
   ]
  },
  {
   "cell_type": "code",
   "execution_count": 59,
   "metadata": {},
   "outputs": [
    {
     "ename": "FileNotFoundError",
     "evalue": "[Errno 2] No such file or directory: '/Users/nile/Workspace/xcode/tdQvecPostProcess/TinyTestData//plot_slice.XZplane.V_4.Q_4.step_00000050.cut_29//plot_slice.XZplane.V_4.Q_4.step_00000050.cut_29.vort.bvin'",
     "output_type": "error",
     "traceback": [
      "\u001b[0;31m---------------------------------------------------------------------------\u001b[0m",
      "\u001b[0;31mFileNotFoundError\u001b[0m                         Traceback (most recent call last)",
      "\u001b[0;32m<ipython-input-59-d72061a05ec2>\u001b[0m in \u001b[0;36m<module>\u001b[0;34m\u001b[0m\n\u001b[1;32m      1\u001b[0m \u001b[0mCONTOUR\u001b[0m \u001b[0;34m=\u001b[0m \u001b[0;32mFalse\u001b[0m\u001b[0;34m\u001b[0m\u001b[0;34m\u001b[0m\u001b[0m\n\u001b[1;32m      2\u001b[0m \u001b[0;34m\u001b[0m\u001b[0m\n\u001b[0;32m----> 3\u001b[0;31m \u001b[0md\u001b[0m \u001b[0;34m=\u001b[0m \u001b[0mnp\u001b[0m\u001b[0;34m.\u001b[0m\u001b[0mfromfile\u001b[0m\u001b[0;34m(\u001b[0m\u001b[0mfilename\u001b[0m\u001b[0;34m,\u001b[0m \u001b[0mdtype\u001b[0m\u001b[0;34m=\u001b[0m\u001b[0mnp\u001b[0m\u001b[0;34m.\u001b[0m\u001b[0mfloat32\u001b[0m\u001b[0;34m)\u001b[0m\u001b[0;34m\u001b[0m\u001b[0;34m\u001b[0m\u001b[0m\n\u001b[0m\u001b[1;32m      4\u001b[0m \u001b[0;34m\u001b[0m\u001b[0m\n\u001b[1;32m      5\u001b[0m \u001b[0mmind\u001b[0m \u001b[0;34m=\u001b[0m \u001b[0mnp\u001b[0m\u001b[0;34m.\u001b[0m\u001b[0mnanmin\u001b[0m\u001b[0;34m(\u001b[0m\u001b[0md\u001b[0m\u001b[0;34m)\u001b[0m\u001b[0;34m\u001b[0m\u001b[0;34m\u001b[0m\u001b[0m\n",
      "\u001b[0;31mFileNotFoundError\u001b[0m: [Errno 2] No such file or directory: '/Users/nile/Workspace/xcode/tdQvecPostProcess/TinyTestData//plot_slice.XZplane.V_4.Q_4.step_00000050.cut_29//plot_slice.XZplane.V_4.Q_4.step_00000050.cut_29.vort.bvin'"
     ]
    }
   ],
   "source": [
    "CONTOUR = False\n",
    "\n",
    "d = np.fromfile(filename, dtype=np.float32)\n",
    "\n",
    "mind = np.nanmin(d)\n",
    "maxd = np.nanmax(d)\n",
    "\n",
    "\n",
    "snx = int(math.sqrt(len(d)))\n",
    "print(len(d), snx, snx*snx, mind, maxd)\n",
    "\n",
    "\n",
    "npd = np.reshape(d,(snx,snx))\n",
    "data = pd.DataFrame(npd.transpose())\n",
    "\n",
    "print(data.shape)\n",
    "\n",
    "\n",
    "DPI = 100\n",
    "if CONTOUR:\n",
    "    mpl_fig = plt.figure(figsize=(20, 20), dpi=DPI)\n",
    "\n",
    "else:\n",
    "    mpl_fig = plt.figure(figsize=(20, 20), dpi=DPI)\n",
    "#     mpl_fig = plt.figure(figsize=(snx/DPI, snx/DPI), dpi=DPI)\n",
    "\n",
    "\n",
    "    \n",
    "ax = mpl_fig.add_subplot(111)\n",
    "ax.invert_yaxis()\n",
    "ax.xaxis.tick_top()\n",
    "\n",
    "\n",
    "min = -35\n",
    "max = -5\n",
    "num_levels = 50\n",
    "\n",
    "\n",
    "levels = np.linspace(min, max, num=num_levels)\n",
    "\n",
    "if CONTOUR:\n",
    "    contours = plt.contourf(data, num_levels, cmap=plt.cm.rainbow)\n",
    "else:\n",
    "    plt.imshow(data, cmap=plt.cm.rainbow, interpolation='none')#, vmin=-35, vmax=-5)\n",
    "\n",
    "\n",
    "\n",
    "\n",
    "filepng = \"%s.png\" % (filename[:-4])\n",
    "\n",
    "plt.savefig(filepng)\n",
    "\n",
    "plt.show()"
   ]
  },
  {
   "cell_type": "markdown",
   "metadata": {},
   "source": []
  },
  {
   "cell_type": "code",
   "execution_count": null,
   "metadata": {},
   "outputs": [],
   "source": []
  }
 ],
 "metadata": {
  "kernelspec": {
   "display_name": "Python 3",
   "language": "python",
   "name": "python3"
  },
  "language_info": {
   "codemirror_mode": {
    "name": "ipython",
    "version": 3
   },
   "file_extension": ".py",
   "mimetype": "text/x-python",
   "name": "python",
   "nbconvert_exporter": "python",
   "pygments_lexer": "ipython3",
   "version": "3.7.2"
  }
 },
 "nbformat": 4,
 "nbformat_minor": 2
}
