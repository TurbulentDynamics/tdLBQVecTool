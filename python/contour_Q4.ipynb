{
 "cells": [
  {
   "cell_type": "code",
   "execution_count": 7,
   "metadata": {
    "scrolled": false
   },
   "outputs": [
    {
     "name": "stdout",
     "output_type": "stream",
     "text": [
      "Matplotlib 2.2.3\n"
     ]
    }
   ],
   "source": [
    "import os, glob\n",
    "import math\n",
    "\n",
    "import numpy as np\n",
    "import pandas as pd\n",
    "\n",
    "import matplotlib as mpl\n",
    "#for use with workstation\n",
    "#matplotlib.use('agg')\n",
    "import matplotlib.pyplot as plt\n",
    "\n",
    "print(\"Matplotlib %s\" % mpl.__version__)\n",
    "%matplotlib inline\n",
    "\n",
    "dirroot = \"/Users/nile/Workspace/xcode/td_lb_base/lb_halo_3dmpi\"\n",
    "dirroot = os.environ.get(\"DIRROOT\", dirroot)"
   ]
  },
  {
   "cell_type": "code",
   "execution_count": 26,
   "metadata": {},
   "outputs": [
    {
     "name": "stdout",
     "output_type": "stream",
     "text": [
      "Found: /Users/nile/Workspace/xcode/td_lb_base/lb_halo_3dmpi/plot_output_np8_upscale/plot_axis__YZplane_V_4_Q_4_step_00002100_cut_207/Qvec_uxyz_log_vort.bin\n"
     ]
    }
   ],
   "source": [
    "\n",
    "directory = \"plot_output_np8_upscale/plot_axis__YZplane_V_4_Q_4_step_00002100_cut_207\"\n",
    "# directory = \"plot_output_n104_load/plot_slice__XZplane_V_4_Q_4_step_00000120_cut_69\"\n",
    "\n",
    "directory = os.environ.get(\"DIRECTORY\", directory)\n",
    "\n",
    "image = \"Qvec_uxyz_log_vort\"\n",
    "\n",
    "\n",
    "filename = \"%s/%s/%s.bin\" % (dirroot, directory, image)\n",
    "\n",
    "\n",
    "if os.path.isfile(filename):\n",
    "    print(\"Found: %s\" % filename)\n",
    "else:\n",
    "    print(\"NOT FOUND: %s\" % filename)\n"
   ]
  },
  {
   "cell_type": "code",
   "execution_count": 37,
   "metadata": {},
   "outputs": [
    {
     "name": "stdout",
     "output_type": "stream",
     "text": [
      "(173056, 416, 173056, -30.9528, inf)\n",
      "(416, 416)\n"
     ]
    },
    {
     "data": {
      "text/plain": [
       "<Figure size 2000x2000 with 1 Axes>"
      ]
     },
     "metadata": {
      "needs_background": "light"
     },
     "output_type": "display_data"
    }
   ],
   "source": [
    "CONTOUR = False\n",
    "\n",
    "d = np.fromfile(filename, dtype=np.float32)\n",
    "\n",
    "mind = np.nanmin(d)\n",
    "maxd = np.nanmax(d)\n",
    "\n",
    "\n",
    "snx = int(math.sqrt(len(d)))\n",
    "print(len(d), snx, snx*snx, mind, maxd)\n",
    "\n",
    "\n",
    "npd = np.reshape(d,(snx,snx))\n",
    "data = pd.DataFrame(npd.transpose())\n",
    "\n",
    "print(data.shape)\n",
    "\n",
    "\n",
    "DPI = 100\n",
    "if CONTOUR:\n",
    "    mpl_fig = plt.figure(figsize=(20, 20), dpi=DPI)\n",
    "else:\n",
    "    mpl_fig = plt.figure(figsize=(20, 20), dpi=DPI)\n",
    "#     mpl_fig = plt.figure(figsize=(snx/DPI, snx/DPI), dpi=DPI)\n",
    "\n",
    "\n",
    "    \n",
    "ax = mpl_fig.add_subplot(111)\n",
    "ax.invert_yaxis()\n",
    "ax.xaxis.tick_top()\n",
    "\n",
    "\n",
    "min = -35\n",
    "max = -5\n",
    "num_levels = 50\n",
    "\n",
    "\n",
    "levels = np.linspace(min, max, num=num_levels)\n",
    "\n",
    "if CONTOUR:\n",
    "    contours = plt.contourf(data, num_levels, cmap=plt.cm.rainbow)\n",
    "else:\n",
    "    plt.imshow(data, cmap=plt.cm.rainbow, interpolation='none', vmin=-35, vmax=-5)\n",
    "\n",
    "\n",
    "\n",
    "\n",
    "filepng = \"%s.png\" % (filename[:-4])\n",
    "\n",
    "plt.savefig(filepng)\n",
    "\n",
    "plt.show()"
   ]
  },
  {
   "cell_type": "code",
   "execution_count": null,
   "metadata": {},
   "outputs": [],
   "source": []
  }
 ],
 "metadata": {
  "kernelspec": {
   "display_name": "Python 2",
   "language": "python",
   "name": "python2"
  },
  "language_info": {
   "codemirror_mode": {
    "name": "ipython",
    "version": 2
   },
   "file_extension": ".py",
   "mimetype": "text/x-python",
   "name": "python",
   "nbconvert_exporter": "python",
   "pygments_lexer": "ipython2",
   "version": "2.7.10"
  }
 },
 "nbformat": 4,
 "nbformat_minor": 2
}
